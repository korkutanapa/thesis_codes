{
 "cells": [
  {
   "cell_type": "markdown",
   "id": "2e086635-f1bc-46df-9e1b-43ff0eee5afa",
   "metadata": {},
   "source": [
    "# This is a reference code for Github"
   ]
  },
  {
   "cell_type": "code",
   "execution_count": 6,
   "id": "961344db-272a-4b62-981b-23c88e598e96",
   "metadata": {},
   "outputs": [],
   "source": [
    "x=412"
   ]
  },
  {
   "cell_type": "code",
   "execution_count": 7,
   "id": "f6c807a3-0a86-4b72-8a51-f1001186e333",
   "metadata": {},
   "outputs": [],
   "source": [
    "y=412/4"
   ]
  },
  {
   "cell_type": "code",
   "execution_count": 8,
   "id": "4fdc47c6-a739-4d0e-b763-374357f52a4f",
   "metadata": {},
   "outputs": [
    {
     "data": {
      "text/plain": [
       "103.0"
      ]
     },
     "execution_count": 8,
     "metadata": {},
     "output_type": "execute_result"
    }
   ],
   "source": [
    "y"
   ]
  },
  {
   "cell_type": "code",
   "execution_count": null,
   "id": "ed49ff19-5c0f-4d27-80ce-fff3c534e0d9",
   "metadata": {},
   "outputs": [],
   "source": []
  }
 ],
 "metadata": {
  "kernelspec": {
   "display_name": "Python 3 (ipykernel)",
   "language": "python",
   "name": "python3"
  },
  "language_info": {
   "codemirror_mode": {
    "name": "ipython",
    "version": 3
   },
   "file_extension": ".py",
   "mimetype": "text/x-python",
   "name": "python",
   "nbconvert_exporter": "python",
   "pygments_lexer": "ipython3",
   "version": "3.7.6"
  }
 },
 "nbformat": 4,
 "nbformat_minor": 5
}
